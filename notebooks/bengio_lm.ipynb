{
 "cells": [
  {
   "cell_type": "code",
   "execution_count": 90,
   "id": "94d40cf5-7500-46b8-8c5f-28096c1fdee8",
   "metadata": {},
   "outputs": [],
   "source": [
    "import pandas as pd\n",
    "import numpy as np\n",
    "from nltk.corpus import brown"
   ]
  },
  {
   "cell_type": "code",
   "execution_count": 32,
   "id": "02a98f38-c6aa-4fee-ab40-48186c542ab1",
   "metadata": {},
   "outputs": [],
   "source": [
    "def corpus_stream(corpus_name='brown'):\n",
    "    if corpus_name=='brown':\n",
    "        for sentence in brown.sents():\n",
    "            yield [w.lower() for w in sentence]\n",
    "    else: assert False, f'corpus: {corpus_name} not supported'"
   ]
  },
  {
   "cell_type": "code",
   "execution_count": 33,
   "id": "072f1aee-76fe-43db-8e57-239915d915ed",
   "metadata": {},
   "outputs": [],
   "source": [
    "def get_topk_elems(generator, k=10):\n",
    "    l = []\n",
    "    for x in generator:\n",
    "        l.append(x)\n",
    "        if len(l)==k: return l"
   ]
  },
  {
   "cell_type": "code",
   "execution_count": 34,
   "id": "92476b56-6019-4160-9d7f-59cd0dc00f65",
   "metadata": {},
   "outputs": [],
   "source": [
    "count_num_words = lambda generator: sum([len(sentence) for sentence in generator])"
   ]
  },
  {
   "cell_type": "code",
   "execution_count": 35,
   "id": "7de9fcfc-bb06-4996-9845-a7b9f8492115",
   "metadata": {},
   "outputs": [
    {
     "data": {
      "text/plain": [
       "1161192"
      ]
     },
     "execution_count": 35,
     "metadata": {},
     "output_type": "execute_result"
    }
   ],
   "source": [
    "count_num_words(corpus_stream())"
   ]
  },
  {
   "cell_type": "code",
   "execution_count": 36,
   "id": "6fe4dc33-b478-41c0-844f-156d8db94235",
   "metadata": {},
   "outputs": [],
   "source": [
    "num_sentences = len([0 for _ in corpus_stream()])"
   ]
  },
  {
   "cell_type": "code",
   "execution_count": 61,
   "id": "9656555f-0d46-4798-9774-893bda951b37",
   "metadata": {},
   "outputs": [],
   "source": [
    "def corpus_split(split, corpus_name='brown'):\n",
    "    if corpus_name=='brown':\n",
    "        if split=='train': \n",
    "            start, end = 0, int(num_sentences*0.62)\n",
    "        elif split=='dev': \n",
    "            start, end = int(num_sentences*0.62), int(num_sentences*0.82)\n",
    "        elif split=='test': \n",
    "            start, end = int(num_sentences*0.82), num_sentences\n",
    "        elif split=='not_test': \n",
    "            start, end = 0, int(num_sentences*0.82)\n",
    "        else: assert False, f'split: {split} is invalid'\n",
    "    else: assert False, f'corpus: {corpus_name} not supported'\n",
    "    for idx, sentence in enumerate(corpus_stream(corpus_name)):\n",
    "        if idx>=start and idx<end:\n",
    "            yield sentence"
   ]
  },
  {
   "cell_type": "code",
   "execution_count": 62,
   "id": "676ab64e-466a-4795-8d12-5dc6c1865377",
   "metadata": {},
   "outputs": [
    {
     "data": {
      "text/plain": [
       "800754"
      ]
     },
     "execution_count": 62,
     "metadata": {},
     "output_type": "execute_result"
    }
   ],
   "source": [
    "count_num_words(corpus_split('train'))"
   ]
  },
  {
   "cell_type": "code",
   "execution_count": 63,
   "id": "b334e141-dbbe-4960-83df-f1ae9054b620",
   "metadata": {},
   "outputs": [
    {
     "data": {
      "text/plain": [
       "196222"
      ]
     },
     "execution_count": 63,
     "metadata": {},
     "output_type": "execute_result"
    }
   ],
   "source": [
    "count_num_words(corpus_split('dev'))"
   ]
  },
  {
   "cell_type": "code",
   "execution_count": 64,
   "id": "e2d0e79f-e0ab-4282-b571-df670524e857",
   "metadata": {},
   "outputs": [
    {
     "data": {
      "text/plain": [
       "164216"
      ]
     },
     "execution_count": 64,
     "metadata": {},
     "output_type": "execute_result"
    }
   ],
   "source": [
    "count_num_words(corpus_split('test'))"
   ]
  },
  {
   "cell_type": "code",
   "execution_count": 70,
   "id": "6dc8ff1c-4f2b-4b19-bd44-d755e06bab6d",
   "metadata": {},
   "outputs": [],
   "source": [
    "def compute_word_counts(stream):\n",
    "    word_to_count = {}\n",
    "    for sentence in stream:\n",
    "        for w in sentence: \n",
    "            word_to_count[w] = word_to_count.get(w, 0)+1\n",
    "    return word_to_count"
   ]
  },
  {
   "cell_type": "code",
   "execution_count": 71,
   "id": "956e6917-bfc0-4341-b2ed-f466c8fea1e6",
   "metadata": {},
   "outputs": [
    {
     "data": {
      "text/plain": [
       "41171"
      ]
     },
     "execution_count": 71,
     "metadata": {},
     "output_type": "execute_result"
    }
   ],
   "source": [
    "len(compute_word_counts(corpus_split('train')))"
   ]
  },
  {
   "cell_type": "code",
   "execution_count": 96,
   "id": "61705b4b-bbe8-4488-b6b6-1404e904658c",
   "metadata": {},
   "outputs": [],
   "source": [
    "def obtain_vocab(word_to_count, min_freq=4):\n",
    "    unk_count = sum([0 if c>=min_freq else c for _, c in word_to_count.items()])\n",
    "    idx_to_winfo = {0: {'word': '<unk>', 'count': unk_count}}\n",
    "    word_to_info = {'<unk>': {'idx': 0, 'count': unk_count}}\n",
    "    filtered_count_words = filter(lambda x: x[0]>=min_freq, [(c, w) for w, c in word_to_count.items()])\n",
    "    sorted_count_word = sorted(filtered_count_words, reverse=True)\n",
    "    for idx, (count, word) in enumerate(sorted_count_word):\n",
    "        idx_to_winfo[idx+1] = {'word': word, 'count': count}\n",
    "        word_to_info[word] = {'idx': idx+1, 'count': count}\n",
    "    return word_to_info, idx_to_winfo"
   ]
  },
  {
   "cell_type": "code",
   "execution_count": 97,
   "id": "8a383d0a-d381-4267-b4b3-9198be85b8fc",
   "metadata": {},
   "outputs": [],
   "source": [
    "vocab = obtain_vocab(compute_word_counts(corpus_split('train')))\n",
    "word_to_info, idx_to_winfo = vocab"
   ]
  },
  {
   "cell_type": "code",
   "execution_count": 98,
   "id": "e233695b-be47-4d5a-864b-0a2bac432149",
   "metadata": {},
   "outputs": [
    {
     "data": {
      "text/plain": [
       "13196"
      ]
     },
     "execution_count": 98,
     "metadata": {},
     "output_type": "execute_result"
    }
   ],
   "source": [
    "len(word_to_info)"
   ]
  },
  {
   "cell_type": "code",
   "execution_count": 101,
   "id": "047bcaf1-cb42-4284-adba-05157fc3f73b",
   "metadata": {},
   "outputs": [
    {
     "name": "stdout",
     "output_type": "stream",
     "text": [
      "[{'word': '<unk>', 'count': 40475}, {'word': 'the', 'count': 50671}, {'word': ',', 'count': 39577}, {'word': '.', 'count': 30705}, {'word': 'of', 'count': 28363}]\n"
     ]
    }
   ],
   "source": [
    "print ([idx_to_winfo[idx] for idx in range(5)])"
   ]
  },
  {
   "cell_type": "code",
   "execution_count": 99,
   "id": "3acbe141-8ab8-40a7-a464-4b5c4efda8d6",
   "metadata": {},
   "outputs": [
    {
     "name": "stdout",
     "output_type": "stream",
     "text": [
      "[{'word': 'made', 'count': 783}, {'word': 'must', 'count': 771}, {'word': 'even', 'count': 766}, {'word': 'then', 'count': 759}, {'word': 'years', 'count': 745}, {'word': 'now', 'count': 742}, {'word': 'after', 'count': 737}, {'word': 'over', 'count': 734}, {'word': 'should', 'count': 724}, {'word': 'state', 'count': 714}, {'word': 'each', 'count': 685}, {'word': 'world', 'count': 667}, {'word': 'man', 'count': 646}, {'word': 'mr.', 'count': 645}, {'word': 'those', 'count': 644}, {'word': 'people', 'count': 630}, {'word': 'through', 'count': 629}, {'word': 'much', 'count': 622}, {'word': 'because', 'count': 612}, {'word': 'before', 'count': 610}]\n"
     ]
    }
   ],
   "source": [
    "print ([idx_to_winfo[idx] for idx in range(90, 110)])"
   ]
  },
  {
   "cell_type": "code",
   "execution_count": 95,
   "id": "34470653-698c-4693-860c-c7c91266cbf6",
   "metadata": {},
   "outputs": [
    {
     "data": {
      "text/plain": [
       "<AxesSubplot: xlabel='idx'>"
      ]
     },
     "execution_count": 95,
     "metadata": {},
     "output_type": "execute_result"
    },
    {
     "data": {
      "image/png": "[encoded data removed]",
      "text/plain": [
       "<Figure size 640x480 with 1 Axes>"
      ]
     },
     "metadata": {},
     "output_type": "display_data"
    }
   ],
   "source": [
    "pdf = []\n",
    "for idx, info in idx_to_winfo.items():\n",
    "    pdf.append([idx, info['count']])\n",
    "pdf = pd.DataFrame(pdf, columns=['idx', 'count'])\n",
    "pdf.plot(x='idx', y='count', logy=True)"
   ]
  },
  {
   "cell_type": "code",
   "execution_count": 102,
   "id": "1bc405f3-fcc4-4188-9a9b-7e5cdd90a5d3",
   "metadata": {},
   "outputs": [],
   "source": [
    "def normalize(stream, min_sentence_len=5):\n",
    "    word_to_info, _ = vocab\n",
    "    for sentence in stream:\n",
    "        if len(sentence)>=min_sentence_len:\n",
    "            yield [w if w in word_to_info else '<unk>' for w in sentence]"
   ]
  },
  {
   "cell_type": "code",
   "execution_count": 104,
   "id": "52d75789-6466-4979-9b5f-ff2ad27972b3",
   "metadata": {},
   "outputs": [
    {
     "name": "stdout",
     "output_type": "stream",
     "text": [
      "[['the', 'fulton', 'county', 'grand', 'jury', 'said', 'friday', 'an', 'investigation', 'of', \"atlanta's\", 'recent', 'primary', 'election', 'produced', '``', 'no', 'evidence', \"''\", 'that', 'any', 'irregularities', 'took', 'place', '.'], ['the', 'jury', 'further', 'said', 'in', '<unk>', '<unk>', 'that', 'the', 'city', 'executive', 'committee', ',', 'which', 'had', 'over-all', 'charge', 'of', 'the', 'election', ',', '``', 'deserves', 'the', 'praise', 'and', 'thanks', 'of', 'the', 'city', 'of', 'atlanta', \"''\", 'for', 'the', 'manner', 'in', 'which', 'the', 'election', 'was', 'conducted', '.'], ['the', '<unk>', 'term', 'jury', 'had', 'been', 'charged', 'by', 'fulton', 'superior', 'court', 'judge', '<unk>', '<unk>', 'to', 'investigate', 'reports', 'of', 'possible', '``', 'irregularities', \"''\", 'in', 'the', '<unk>', 'primary', 'which', 'was', 'won', 'by', '<unk>', 'ivan', 'allen', 'jr.', '.'], ['``', 'only', 'a', 'relative', 'handful', 'of', 'such', 'reports', 'was', 'received', \"''\", ',', 'the', 'jury', 'said', ',', '``', 'considering', 'the', 'widespread', 'interest', 'in', 'the', 'election', ',', 'the', 'number', 'of', 'voters', 'and', 'the', 'size', 'of', 'this', 'city', \"''\", '.'], ['the', 'jury', 'said', 'it', 'did', 'find', 'that', 'many', 'of', \"georgia's\", 'registration', 'and', 'election', 'laws', '``', 'are', 'outmoded', 'or', 'inadequate', 'and', 'often', 'ambiguous', \"''\", '.'], ['it', 'recommended', 'that', 'fulton', 'legislators', 'act', '``', 'to', 'have', 'these', 'laws', 'studied', 'and', 'revised', 'to', 'the', 'end', 'of', 'modernizing', 'and', 'improving', 'them', \"''\", '.'], ['the', 'grand', 'jury', 'commented', 'on', 'a', 'number', 'of', 'other', 'topics', ',', 'among', 'them', 'the', 'atlanta', 'and', 'fulton', 'county', 'purchasing', 'departments', 'which', 'it', 'said', '``', 'are', 'well', 'operated', 'and', 'follow', 'generally', 'accepted', 'practices', 'which', '<unk>', 'to', 'the', 'best', 'interest', 'of', 'both', 'governments', \"''\", '.'], ['however', ',', 'the', 'jury', 'said', 'it', 'believes', '``', 'these', 'two', 'offices', 'should', 'be', 'combined', 'to', 'achieve', 'greater', 'efficiency', 'and', 'reduce', 'the', 'cost', 'of', 'administration', \"''\", '.'], ['the', 'city', 'purchasing', 'department', ',', 'the', 'jury', 'said', ',', '``', 'is', 'lacking', 'in', 'experienced', 'clerical', 'personnel', 'as', 'a', 'result', 'of', 'city', 'personnel', 'policies', \"''\", '.'], ['it', 'urged', 'that', 'the', 'city', '``', 'take', 'steps', 'to', 'remedy', \"''\", 'this', 'problem', '.']]\n"
     ]
    }
   ],
   "source": [
    "print (get_topk_elems(normalize(corpus_split('train'))))"
   ]
  },
  {
   "cell_type": "code",
   "execution_count": null,
   "id": "d434c987-d1aa-411a-aade-288f985e27f3",
   "metadata": {},
   "outputs": [],
   "source": []
  },
  {
   "cell_type": "code",
   "execution_count": null,
   "id": "5864b72c-3f18-4fa4-bf78-a40ba5cb0ee0",
   "metadata": {},
   "outputs": [],
   "source": []
  },
  {
   "cell_type": "code",
   "execution_count": null,
   "id": "f7d2a985-8b9e-4d07-91dc-007134393309",
   "metadata": {},
   "outputs": [],
   "source": []
  },
  {
   "cell_type": "code",
   "execution_count": null,
   "id": "38d3eb8f-9e78-442a-a1fa-cdf70cb3ef97",
   "metadata": {},
   "outputs": [],
   "source": []
  },
  {
   "cell_type": "code",
   "execution_count": null,
   "id": "070b661d-db43-4df6-b987-f40aeadd75ca",
   "metadata": {},
   "outputs": [],
   "source": []
  },
  {
   "cell_type": "code",
   "execution_count": null,
   "id": "606414b9-5464-4243-9777-b60becf504ea",
   "metadata": {},
   "outputs": [],
   "source": []
  },
  {
   "cell_type": "code",
   "execution_count": null,
   "id": "05eb8d58-18dc-435b-bce2-9c4ba20a7e7a",
   "metadata": {},
   "outputs": [],
   "source": []
  }
 ],
 "metadata": {
  "kernelspec": {
   "display_name": "Python 3 (ipykernel)",
   "language": "python",
   "name": "python3"
  },
  "language_info": {
   "codemirror_mode": {
    "name": "ipython",
    "version": 3
   },
   "file_extension": ".py",
   "mimetype": "text/x-python",
   "name": "python",
   "nbconvert_exporter": "python",
   "pygments_lexer": "ipython3",
   "version": "3.9.15"
  }
 },
 "nbformat": 4,
 "nbformat_minor": 5
}
