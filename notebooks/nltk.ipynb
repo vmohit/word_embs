{
 "cells": [
  {
   "cell_type": "code",
   "execution_count": 2,
   "id": "aa3c824e-4572-4ae8-a7b6-a22fa992bdec",
   "metadata": {},
   "outputs": [],
   "source": [
    "import nltk"
   ]
  },
  {
   "cell_type": "markdown",
   "id": "03f6f4b2-f8f7-498a-b044-c7cf7546dce1",
   "metadata": {},
   "source": [
    "## Downloads"
   ]
  },
  {
   "cell_type": "code",
   "execution_count": 17,
   "id": "e2ab0168-61b5-4022-8e2b-f6c26cfa8d6c",
   "metadata": {},
   "outputs": [
    {
     "name": "stderr",
     "output_type": "stream",
     "text": [
      "[nltk_data] Downloading package averaged_perceptron_tagger to\n",
      "[nltk_data]     /home/mohit/nltk_data...\n",
      "[nltk_data]   Package averaged_perceptron_tagger is already up-to-\n",
      "[nltk_data]       date!\n",
      "[nltk_data] Downloading package maxent_ne_chunker to\n",
      "[nltk_data]     /home/mohit/nltk_data...\n",
      "[nltk_data]   Package maxent_ne_chunker is already up-to-date!\n",
      "[nltk_data] Downloading package words to /home/mohit/nltk_data...\n",
      "[nltk_data]   Package words is already up-to-date!\n",
      "[nltk_data] Downloading package brown to /home/mohit/nltk_data...\n",
      "[nltk_data]   Unzipping corpora/brown.zip.\n",
      "[nltk_data] Downloading package nonbreaking_prefixes to\n",
      "[nltk_data]     /home/mohit/nltk_data...\n",
      "[nltk_data]   Unzipping corpora/nonbreaking_prefixes.zip.\n",
      "[nltk_data] Downloading package perluniprops to\n",
      "[nltk_data]     /home/mohit/nltk_data...\n",
      "[nltk_data]   Unzipping misc/perluniprops.zip.\n"
     ]
    },
    {
     "data": {
      "text/plain": [
       "True"
      ]
     },
     "execution_count": 17,
     "metadata": {},
     "output_type": "execute_result"
    }
   ],
   "source": [
    "nltk.download('averaged_perceptron_tagger')\n",
    "nltk.download('maxent_ne_chunker')\n",
    "nltk.download('words')\n",
    "nltk.download('brown')\n",
    "nltk.download('nonbreaking_prefixes')\n",
    "nltk.download('perluniprops')"
   ]
  },
  {
   "cell_type": "markdown",
   "id": "40487722-e254-41c7-ab75-ec295d0fff26",
   "metadata": {},
   "source": [
    "## Code Samples"
   ]
  },
  {
   "cell_type": "code",
   "execution_count": 16,
   "id": "9f0ea1a8-59cb-4674-b233-280c52e68ea0",
   "metadata": {},
   "outputs": [
    {
     "name": "stdout",
     "output_type": "stream",
     "text": [
      "['At', 'eight', \"o'clock\", 'on', 'Thursday', 'morning', 'Arthur', 'did', \"n't\", 'feel', 'very', 'good', '.']\n",
      "[('At', 'IN'), ('eight', 'CD'), (\"o'clock\", 'NN'), ('on', 'IN'), ('Thursday', 'NNP'), ('morning', 'NN')]\n",
      "(S\n",
      "  At/IN\n",
      "  eight/CD\n",
      "  o'clock/NN\n",
      "  on/IN\n",
      "  Thursday/NNP\n",
      "  morning/NN\n",
      "  (PERSON Arthur/NNP)\n",
      "  did/VBD\n",
      "  n't/RB\n",
      "  feel/VB\n",
      "  very/RB\n",
      "  good/JJ\n",
      "  ./.)\n"
     ]
    }
   ],
   "source": [
    "sentence = \"\"\"At eight o'clock on Thursday morning Arthur didn't feel very good.\"\"\"\n",
    "tokens = nltk.word_tokenize(sentence)\n",
    "print (tokens)\n",
    "tagged = nltk.pos_tag(tokens)\n",
    "print (tagged[0:6])\n",
    "entities = nltk.chunk.ne_chunk(tagged)\n",
    "print (entities)"
   ]
  },
  {
   "cell_type": "code",
   "execution_count": null,
   "id": "464f0f77-a18e-4946-9473-4ea61422457d",
   "metadata": {},
   "outputs": [],
   "source": []
  },
  {
   "cell_type": "code",
   "execution_count": null,
   "id": "7587033b-a6c0-49b7-8c2c-710ada2761c7",
   "metadata": {},
   "outputs": [],
   "source": []
  },
  {
   "cell_type": "code",
   "execution_count": null,
   "id": "3297b5c6-d792-4d27-9c54-52673b72be83",
   "metadata": {},
   "outputs": [],
   "source": []
  },
  {
   "cell_type": "code",
   "execution_count": null,
   "id": "987fc5e0-4465-4601-a58e-030971fd8b0a",
   "metadata": {},
   "outputs": [],
   "source": []
  },
  {
   "cell_type": "code",
   "execution_count": null,
   "id": "59612867-df5f-49bf-a8b0-276caf39e558",
   "metadata": {},
   "outputs": [],
   "source": []
  },
  {
   "cell_type": "code",
   "execution_count": null,
   "id": "7c41ddef-b44b-4aa4-8b9e-46d925271b6c",
   "metadata": {},
   "outputs": [],
   "source": []
  },
  {
   "cell_type": "code",
   "execution_count": null,
   "id": "1daa64d2-0c74-4d9c-90a7-816698838907",
   "metadata": {},
   "outputs": [],
   "source": []
  },
  {
   "cell_type": "code",
   "execution_count": null,
   "id": "d9811955-1572-4012-abf9-7634dd658088",
   "metadata": {},
   "outputs": [],
   "source": []
  },
  {
   "cell_type": "code",
   "execution_count": null,
   "id": "405caa78-3b0a-49a4-8f54-38e7ebb09b46",
   "metadata": {},
   "outputs": [],
   "source": []
  }
 ],
 "metadata": {
  "kernelspec": {
   "display_name": "Python 3 (ipykernel)",
   "language": "python",
   "name": "python3"
  },
  "language_info": {
   "codemirror_mode": {
    "name": "ipython",
    "version": 3
   },
   "file_extension": ".py",
   "mimetype": "text/x-python",
   "name": "python",
   "nbconvert_exporter": "python",
   "pygments_lexer": "ipython3",
   "version": "3.9.15"
  }
 },
 "nbformat": 4,
 "nbformat_minor": 5
}
